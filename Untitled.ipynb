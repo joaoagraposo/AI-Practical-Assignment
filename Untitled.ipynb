{
 "cells": [
  {
   "cell_type": "markdown",
   "id": "e0ace5b3-452f-4f97-b52c-32c461344bdb",
   "metadata": {},
   "source": [
    "# Artificial Intelligence 24/25 Assignment - Adversarial search strategies and Decision Trees"
   ]
  },
  {
   "cell_type": "markdown",
   "id": "bdaf92e2-27e9-45aa-bc11-c3be41c603dd",
   "metadata": {},
   "source": [
    "### Classe ConnectFourState:\n",
    "- `__init__`: Inicializa o tabuleiro caso ele ainda não esteja incializado. Por defeito, o jogador `1` começa a jogar primeiro.\n",
    "- `clone`: Cria uma copia do estado atual do jogo (COMPLETAR DPS DE PERCEBER O QUE FAZ).\n",
    "- `get_legal_moves`: Verifica quais as colunas em que é possível jogar (colunas não cheias).\n",
    "- `play_move`: Coloca uma peça do jogador atual no topo da coluna escolhida.\n",
    "- `is_terminal`:"
   ]
  },
  {
   "cell_type": "code",
   "execution_count": null,
   "id": "ec8754e6",
   "metadata": {},
   "outputs": [],
   "source": []
  },
  {
   "cell_type": "code",
   "execution_count": null,
   "id": "8f8fb7ca-ba82-4f9c-a11d-d70108adee8d",
   "metadata": {},
   "outputs": [],
   "source": []
  }
 ],
 "metadata": {
  "kernelspec": {
   "display_name": "Python 3 (ipykernel)",
   "language": "python",
   "name": "python3"
  },
  "language_info": {
   "codemirror_mode": {
    "name": "ipython",
    "version": 3
   },
   "file_extension": ".py",
   "mimetype": "text/x-python",
   "name": "python",
   "nbconvert_exporter": "python",
   "pygments_lexer": "ipython3",
   "version": "3.10.12"
  }
 },
 "nbformat": 4,
 "nbformat_minor": 5
}
